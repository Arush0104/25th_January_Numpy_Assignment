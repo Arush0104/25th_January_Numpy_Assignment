{
 "cells": [
  {
   "cell_type": "code",
   "execution_count": 17,
   "metadata": {},
   "outputs": [
    {
     "name": "stdout",
     "output_type": "stream",
     "text": [
      "\n",
      "A python library is a collection of pre written code used for specific functionalities\n",
      "      \n"
     ]
    }
   ],
   "source": [
    "#Question 1\n",
    "print(\"\"\"\n",
    "A python library is a collection of pre written code used for specific functionalities\n",
    "      \"\"\")"
   ]
  },
  {
   "cell_type": "code",
   "execution_count": 18,
   "metadata": {},
   "outputs": [
    {
     "name": "stdout",
     "output_type": "stream",
     "text": [
      "\n",
      "-NumPy arrays are more memory-efficient and faster than Python lists.\n",
      "-All elements in a NumPy array must be of the same data type     \n",
      "-Since all elements are of the same type, NumPy arrays use less memory\n",
      "      \n"
     ]
    }
   ],
   "source": [
    "#Question 2\n",
    "print(\"\"\"\n",
    "-NumPy arrays are more memory-efficient and faster than Python lists.\n",
    "-All elements in a NumPy array must be of the same data type     \n",
    "-Since all elements are of the same type, NumPy arrays use less memory\n",
    "      \"\"\")"
   ]
  },
  {
   "cell_type": "code",
   "execution_count": 19,
   "metadata": {},
   "outputs": [
    {
     "name": "stdout",
     "output_type": "stream",
     "text": [
      "(3, 4)\n",
      "12\n",
      "2\n"
     ]
    }
   ],
   "source": [
    "#Question 3\n",
    "import numpy as np\n",
    "a = np.array([[1, 2, 3, 4],\n",
    "            [5, 6, 7, 8],\n",
    "            [9, 10, 11, 12]])\n",
    "print(a.shape)\n",
    "print(a.size)\n",
    "print(a.ndim)"
   ]
  },
  {
   "cell_type": "code",
   "execution_count": 20,
   "metadata": {},
   "outputs": [
    {
     "data": {
      "text/plain": [
       "array([1, 2, 3, 4])"
      ]
     },
     "execution_count": 20,
     "metadata": {},
     "output_type": "execute_result"
    }
   ],
   "source": [
    "#Question 4\n",
    "b = np.array([[1, 2, 3, 4],\n",
    "            [5, 6, 7, 8],\n",
    "            [9, 10, 11, 12]])\n",
    "b[0]"
   ]
  },
  {
   "cell_type": "code",
   "execution_count": 25,
   "metadata": {},
   "outputs": [
    {
     "data": {
      "text/plain": [
       "12"
      ]
     },
     "execution_count": 25,
     "metadata": {},
     "output_type": "execute_result"
    }
   ],
   "source": [
    "#Question 5\n",
    "b[2,3]"
   ]
  },
  {
   "cell_type": "code",
   "execution_count": 32,
   "metadata": {},
   "outputs": [
    {
     "data": {
      "text/plain": [
       "array([ 2,  4,  6,  8, 10, 12])"
      ]
     },
     "execution_count": 32,
     "metadata": {},
     "output_type": "execute_result"
    }
   ],
   "source": [
    "#Question 6\n",
    "odd_index = b.flatten()[1::2]\n",
    "odd_index"
   ]
  },
  {
   "cell_type": "code",
   "execution_count": 36,
   "metadata": {},
   "outputs": [
    {
     "name": "stdout",
     "output_type": "stream",
     "text": [
      "[[0.40443026 0.65899415 0.98400444]\n",
      " [0.12574156 0.39270109 0.62820458]\n",
      " [0.01503889 0.03801564 0.37148793]]\n"
     ]
    }
   ],
   "source": [
    "#Question 7\n",
    "import numpy as np\n",
    "random_matrix = np.random.rand(3, 3)\n",
    "print(random_matrix)\n",
    "\n"
   ]
  },
  {
   "cell_type": "code",
   "execution_count": 37,
   "metadata": {},
   "outputs": [
    {
     "name": "stdout",
     "output_type": "stream",
     "text": [
      "\n",
      "np.random.rand: Generates random numbers from a uniform distribution\n",
      "np.random.randn: Generates random numbers from a standard normal distribution       \n",
      "      \n"
     ]
    }
   ],
   "source": [
    "#Question 8\n",
    "print(\"\"\"\n",
    "np.random.rand: Generates random numbers from a uniform distribution\n",
    "np.random.randn: Generates random numbers from a standard normal distribution       \n",
    "      \"\"\")"
   ]
  },
  {
   "cell_type": "code",
   "execution_count": 41,
   "metadata": {},
   "outputs": [
    {
     "name": "stdout",
     "output_type": "stream",
     "text": [
      "[[[ 1  2  3  4]\n",
      "  [ 5  6  7  8]\n",
      "  [ 9 10 11 12]]]\n",
      "(1, 3, 4)\n"
     ]
    }
   ],
   "source": [
    "#Question 9\n",
    "new_arr = np.expand_dims(b, axis=0)  \n",
    "print(new_arr)\n",
    "print(new_arr.shape)"
   ]
  },
  {
   "cell_type": "code",
   "execution_count": 42,
   "metadata": {},
   "outputs": [
    {
     "data": {
      "text/plain": [
       "array([[ 1,  5,  9],\n",
       "       [ 2,  6, 10],\n",
       "       [ 3,  7, 11],\n",
       "       [ 4,  8, 12]])"
      ]
     },
     "execution_count": 42,
     "metadata": {},
     "output_type": "execute_result"
    }
   ],
   "source": [
    "#Question 10\n",
    "np.transpose(b)"
   ]
  },
  {
   "cell_type": "code",
   "execution_count": 47,
   "metadata": {},
   "outputs": [
    {
     "data": {
      "text/plain": [
       "array([[  1,   4,   9,  16],\n",
       "       [ 25,  36,  49,  64],\n",
       "       [ 81, 100, 121, 144]])"
      ]
     },
     "execution_count": 47,
     "metadata": {},
     "output_type": "execute_result"
    }
   ],
   "source": [
    "#Question 11\n",
    "A = np.array([[1, 2, 3, 4],[5, 6, 7, 8],[9, 10, 11, 12]])\n",
    "B = np.array([[1, 2, 3, 4],[5, 6, 7, 8],[9, 10, 11, 12]])\n",
    "np.multiply(A,B)"
   ]
  },
  {
   "cell_type": "code",
   "execution_count": 55,
   "metadata": {},
   "outputs": [],
   "source": [
    "np.dot(A,B)\n",
    "#Doesnt work here"
   ]
  },
  {
   "cell_type": "code",
   "execution_count": 56,
   "metadata": {},
   "outputs": [
    {
     "data": {
      "text/plain": [
       "array([[ 2,  4,  6,  8],\n",
       "       [10, 12, 14, 16],\n",
       "       [18, 20, 22, 24]])"
      ]
     },
     "execution_count": 56,
     "metadata": {},
     "output_type": "execute_result"
    }
   ],
   "source": [
    "A+B"
   ]
  },
  {
   "cell_type": "code",
   "execution_count": 57,
   "metadata": {},
   "outputs": [
    {
     "data": {
      "text/plain": [
       "array([[0, 0, 0, 0],\n",
       "       [0, 0, 0, 0],\n",
       "       [0, 0, 0, 0]])"
      ]
     },
     "execution_count": 57,
     "metadata": {},
     "output_type": "execute_result"
    }
   ],
   "source": [
    "B-A"
   ]
  },
  {
   "cell_type": "code",
   "execution_count": 59,
   "metadata": {},
   "outputs": [
    {
     "data": {
      "text/plain": [
       "array([[1., 1., 1., 1.],\n",
       "       [1., 1., 1., 1.],\n",
       "       [1., 1., 1., 1.]])"
      ]
     },
     "execution_count": 59,
     "metadata": {},
     "output_type": "execute_result"
    }
   ],
   "source": [
    "B/A"
   ]
  },
  {
   "cell_type": "code",
   "execution_count": 61,
   "metadata": {},
   "outputs": [
    {
     "name": "stdout",
     "output_type": "stream",
     "text": [
      "Original array: [  1 256   0]\n",
      "Array with swapped byte order: [256   1   0]\n"
     ]
    },
    {
     "name": "stderr",
     "output_type": "stream",
     "text": [
      "C:\\Users\\arush\\AppData\\Local\\Temp\\ipykernel_17976\\2101763161.py:2: DeprecationWarning: NumPy will stop allowing conversion of out-of-bound Python integers to integer arrays.  The conversion of 65536 to int16 will fail in the future.\n",
      "For the old behavior, usually:\n",
      "    np.array(value).astype(dtype)\n",
      "will give the desired result (the cast overflows).\n",
      "  arr = np.array([1, 256, 65536], dtype=np.int16)\n"
     ]
    }
   ],
   "source": [
    "#Question 12\n",
    "arr = np.array([1, 256, 65536], dtype=np.int16)\n",
    "arr_swapped = arr.byteswap()\n",
    "print(\"Original array:\", arr)\n",
    "print(\"Array with swapped byte order:\", arr_swapped)"
   ]
  },
  {
   "cell_type": "code",
   "execution_count": 65,
   "metadata": {},
   "outputs": [
    {
     "name": "stdout",
     "output_type": "stream",
     "text": [
      "The np.linalg.inv() function in NumPy is used to compute the inverse of a square matrix. \n"
     ]
    }
   ],
   "source": [
    "#Question 13\n",
    "print(\"\"\"The np.linalg.inv() function in NumPy is used to compute the inverse of a square matrix. \"\"\")"
   ]
  },
  {
   "cell_type": "code",
   "execution_count": 66,
   "metadata": {},
   "outputs": [
    {
     "name": "stdout",
     "output_type": "stream",
     "text": [
      "The np.reshape() function in NumPy is used to change the shape of an array without changing its data.\n"
     ]
    }
   ],
   "source": [
    "#Question 14\n",
    "print(\"\"\"The np.reshape() function in NumPy is used to change the shape of an array without changing its data.\"\"\")"
   ]
  },
  {
   "cell_type": "code",
   "execution_count": 68,
   "metadata": {},
   "outputs": [
    {
     "name": "stdout",
     "output_type": "stream",
     "text": [
      "The term broadcasting describes how NumPy treats arrays with different shapes during arithmetic operations. \n"
     ]
    }
   ],
   "source": [
    "#Question 15\n",
    "print(\"The term broadcasting describes how NumPy treats arrays with different shapes during arithmetic operations. \")"
   ]
  },
  {
   "cell_type": "code",
   "execution_count": null,
   "metadata": {},
   "outputs": [],
   "source": []
  }
 ],
 "metadata": {
  "kernelspec": {
   "display_name": "Python 3",
   "language": "python",
   "name": "python3"
  },
  "language_info": {
   "codemirror_mode": {
    "name": "ipython",
    "version": 3
   },
   "file_extension": ".py",
   "mimetype": "text/x-python",
   "name": "python",
   "nbconvert_exporter": "python",
   "pygments_lexer": "ipython3",
   "version": "3.12.2"
  }
 },
 "nbformat": 4,
 "nbformat_minor": 2
}
